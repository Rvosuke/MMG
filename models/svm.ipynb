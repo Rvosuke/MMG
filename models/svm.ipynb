{
 "cells": [
  {
   "cell_type": "markdown",
   "metadata": {},
   "source": [
    "# 1. 数据预处理\n",
    "## 检查并处理缺失值\n",
    "首先，我们需要加载乳腺癌数据集并检查是否有缺失值。"
   ]
  },
  {
   "cell_type": "code",
   "metadata": {
    "ExecuteTime": {
     "end_time": "2024-05-17T06:29:04.415859Z",
     "start_time": "2024-05-17T06:29:04.288824Z"
    }
   },
   "source": [
    "import pandas as pd\n",
    "from sklearn.datasets import load_breast_cancer\n",
    "\n",
    "# 加载数据集\n",
    "data = load_breast_cancer()\n",
    "df = pd.DataFrame(data.data, columns=data.feature_names)\n",
    "df['target'] = data.target\n",
    "\n",
    "# 检查缺失值\n",
    "print(df.isnull().sum())"
   ],
   "outputs": [
    {
     "name": "stdout",
     "output_type": "stream",
     "text": [
      "mean radius                0\n",
      "mean texture               0\n",
      "mean perimeter             0\n",
      "mean area                  0\n",
      "mean smoothness            0\n",
      "mean compactness           0\n",
      "mean concavity             0\n",
      "mean concave points        0\n",
      "mean symmetry              0\n",
      "mean fractal dimension     0\n",
      "radius error               0\n",
      "texture error              0\n",
      "perimeter error            0\n",
      "area error                 0\n",
      "smoothness error           0\n",
      "compactness error          0\n",
      "concavity error            0\n",
      "concave points error       0\n",
      "symmetry error             0\n",
      "fractal dimension error    0\n",
      "worst radius               0\n",
      "worst texture              0\n",
      "worst perimeter            0\n",
      "worst area                 0\n",
      "worst smoothness           0\n",
      "worst compactness          0\n",
      "worst concavity            0\n",
      "worst concave points       0\n",
      "worst symmetry             0\n",
      "worst fractal dimension    0\n",
      "target                     0\n",
      "dtype: int64\n"
     ]
    }
   ],
   "execution_count": 1
  },
  {
   "cell_type": "markdown",
   "metadata": {},
   "source": [
    "## 标准化或归一化数据\n",
    "通常我们使用标准化方法对数据进行处理。"
   ]
  },
  {
   "cell_type": "code",
   "metadata": {
    "ExecuteTime": {
     "end_time": "2024-05-17T06:29:04.425059Z",
     "start_time": "2024-05-17T06:29:04.415859Z"
    }
   },
   "source": [
    "from sklearn.preprocessing import StandardScaler\n",
    "\n",
    "# 标准化特征数据\n",
    "scaler = StandardScaler()\n",
    "X_scaled = scaler.fit_transform(df[data.feature_names])\n",
    "y = df['target']"
   ],
   "outputs": [],
   "execution_count": 2
  },
  {
   "cell_type": "markdown",
   "metadata": {},
   "source": [
    "# 2. 交叉验证\n",
    "使用 k-fold 交叉验证来评估模型的泛化能力。"
   ]
  },
  {
   "cell_type": "code",
   "metadata": {
    "ExecuteTime": {
     "end_time": "2024-05-17T06:29:04.570940Z",
     "start_time": "2024-05-17T06:29:04.425059Z"
    }
   },
   "source": [
    "from sklearn.model_selection import cross_val_score, StratifiedKFold\n",
    "from sklearn.svm import SVC\n",
    "\n",
    "# 定义 SVM 模型\n",
    "svm_model = SVC()\n",
    "\n",
    "# 使用 10-fold 交叉验证\n",
    "cv = StratifiedKFold(n_splits=10, shuffle=True, random_state=42)\n",
    "cv_scores = cross_val_score(svm_model, X_scaled, y, cv=cv)\n",
    "\n",
    "print(f\"Cross-validation scores: {cv_scores}\")\n",
    "print(f\"Mean CV score: {cv_scores.mean()}\")"
   ],
   "outputs": [
    {
     "name": "stdout",
     "output_type": "stream",
     "text": [
      "Cross-validation scores: [1.         0.98245614 0.94736842 0.96491228 0.96491228 0.96491228\n",
      " 1.         0.94736842 0.98245614 1.        ]\n",
      "Mean CV score: 0.9754385964912281\n"
     ]
    }
   ],
   "execution_count": 3
  },
  {
   "cell_type": "markdown",
   "metadata": {},
   "source": [
    "# 3. 超参数优化\n",
    "使用 Bayesian Optimization 来选择 SVM 模型的最佳超参数。"
   ]
  },
  {
   "cell_type": "code",
   "metadata": {
    "ExecuteTime": {
     "end_time": "2024-05-17T06:29:31.862377Z",
     "start_time": "2024-05-17T06:29:04.570940Z"
    }
   },
   "source": [
    "from skopt import BayesSearchCV\n",
    "from skopt.space import Real, Categorical, Integer\n",
    "\n",
    "# 定义参数搜索空间\n",
    "param_grid = {\n",
    "    'C': Real(1e-6, 1e+6, prior='log-uniform'),\n",
    "    'gamma': Real(1e-6, 1e+1, prior='log-uniform'),\n",
    "    'kernel': Categorical(['linear', 'poly', 'rbf', 'sigmoid']),\n",
    "    'degree': Integer(1, 8),\n",
    "    'coef0': Real(0, 10)\n",
    "}\n",
    "\n",
    "# 使用 Bayesian Optimization 进行超参数搜索\n",
    "bayes_search = BayesSearchCV(estimator=SVC(), search_spaces=param_grid, n_iter=32, cv=cv, random_state=42, n_jobs=-1)\n",
    "bayes_search.fit(X_scaled, y)\n",
    "\n",
    "print(f\"Best parameters: {bayes_search.best_params_}\")\n",
    "print(f\"Best CV score: {bayes_search.best_score_}\")"
   ],
   "outputs": [
    {
     "name": "stdout",
     "output_type": "stream",
     "text": [
      "Best parameters: OrderedDict({'C': 0.21776603694820984, 'coef0': 9.18722521669377, 'degree': 2, 'gamma': 0.0010797659128262546, 'kernel': 'linear'})\n",
      "Best CV score: 0.9754385964912281\n"
     ]
    }
   ],
   "execution_count": 4
  },
  {
   "cell_type": "markdown",
   "metadata": {},
   "source": [
    "# 4. 模型评估\n",
    "计算各种评估指标，包括 Accuracy, Sensitivity, Specificity, ROC 曲线和 AUC 等。"
   ]
  },
  {
   "cell_type": "code",
   "metadata": {
    "ExecuteTime": {
     "end_time": "2024-05-17T06:29:32.044098Z",
     "start_time": "2024-05-17T06:29:31.862377Z"
    }
   },
   "source": [
    "from sklearn.metrics import accuracy_score, precision_score, recall_score, roc_curve, auc, confusion_matrix\n",
    "import matplotlib.pyplot as plt\n",
    "\n",
    "# 最佳模型\n",
    "best_model = bayes_search.best_estimator_\n",
    "y_pred = best_model.predict(X_scaled)\n",
    "\n",
    "# 评估指标\n",
    "accuracy = accuracy_score(y, y_pred)\n",
    "precision = precision_score(y, y_pred)\n",
    "recall = recall_score(y, y_pred)\n",
    "conf_matrix = confusion_matrix(y, y_pred)\n",
    "\n",
    "# ROC 曲线和 AUC\n",
    "fpr, tpr, _ = roc_curve(y, best_model.decision_function(X_scaled))\n",
    "roc_auc = auc(fpr, tpr)\n",
    "\n",
    "print(f\"Accuracy: {accuracy}\")\n",
    "print(f\"Precision: {precision}\")\n",
    "print(f\"Recall: {recall}\")\n",
    "print(f\"Confusion Matrix: \\n{conf_matrix}\")\n",
    "print(f\"AUC: {roc_auc}\")\n",
    "\n",
    "# 绘制 ROC 曲线\n",
    "plt.figure()\n",
    "plt.plot(fpr, tpr, color='darkorange', lw=2, label=f'ROC curve (area = {roc_auc:0.2f})')\n",
    "plt.plot([0, 1], [0, 1], color='navy', lw=2, linestyle='--')\n",
    "plt.xlim([0.0, 1.0])\n",
    "plt.ylim([0.0, 1.05])\n",
    "plt.xlabel('False Positive Rate')\n",
    "plt.ylabel('True Positive Rate')\n",
    "plt.title('Receiver Operating Characteristic')\n",
    "plt.legend(loc='lower right')\n",
    "plt.show()"
   ],
   "outputs": [
    {
     "name": "stdout",
     "output_type": "stream",
     "text": [
      "Accuracy: 0.9859402460456942\n",
      "Precision: 0.9833795013850416\n",
      "Recall: 0.9943977591036415\n",
      "Confusion Matrix: \n",
      "[[206   6]\n",
      " [  2 355]]\n",
      "AUC: 0.9966703662597114\n"
     ]
    },
    {
     "data": {
      "text/plain": [
       "<Figure size 640x480 with 1 Axes>"
      ],
      "image/png": "[encoded data removed]"
     },
     "metadata": {},
     "output_type": "display_data"
    }
   ],
   "execution_count": 5
  },
  {
   "cell_type": "markdown",
   "metadata": {},
   "source": [
    "# 5. 特征重要性分析\n",
    "使用 SHAP 分析特征的重要性和对模型预测的影响。"
   ]
  },
  {
   "cell_type": "code",
   "metadata": {
    "jupyter": {
     "is_executing": true
    },
    "ExecuteTime": {
     "start_time": "2024-05-17T06:29:32.044098Z"
    }
   },
   "source": [
    "import shap\n",
    "\n",
    "# 计算 SHAP 值\n",
    "explainer = shap.KernelExplainer(best_model.predict, X_scaled)\n",
    "shap_values = explainer.shap_values(X_scaled)\n",
    "\n",
    "# 可视化 SHAP 值\n",
    "shap.summary_plot(shap_values, X_scaled, feature_names=data.feature_names)\n",
    "# Using 569 background data samples could cause slower run times. Consider using shap.sample(data, K) or shap.kmeans(data, K) to summarize the background as K samples.\n",
    "# shap.summary_plot(shap_values, X_scaled, feature_names=data.feature_names, plot_type=\"bar\")\n",
    "#\n",
    "# shap.initjs()\n",
    "# shap.force_plot(explainer.expected_value, shap_values[0], X_scaled[0], feature_names=data.feature_names)\n",
    "# shap.force_plot(explainer.expected_value, shap_values, X_scaled, feature_names=data.feature_names)\n",
    "# shap.force_plot(explainer.expected_value, shap_values, X_scaled, feature_names=data.feature_names, matplotlib=True)"
   ],
   "outputs": [
    {
     "name": "stderr",
     "output_type": "stream",
     "text": [
      "Using 569 background data samples could cause slower run times. Consider using shap.sample(data, K) or shap.kmeans(data, K) to summarize the background as K samples.\n"
     ]
    },
    {
     "data": {
      "text/plain": [
       "  0%|          | 0/569 [00:00<?, ?it/s]"
      ],
      "application/vnd.jupyter.widget-view+json": {
       "version_major": 2,
       "version_minor": 0,
       "model_id": "30f58b5b5d7c4a4293057d87d4eff092"
      }
     },
     "metadata": {},
     "output_type": "display_data"
    }
   ],
   "execution_count": null
  },
  {
   "cell_type": "markdown",
   "metadata": {},
   "source": [
    "# 6. 模型可解释性\n",
    "使用 LIME 或 Shapley 技术来解释模型的预测结果。"
   ]
  },
  {
   "cell_type": "code",
   "metadata": {
    "jupyter": {
     "is_executing": true
    }
   },
   "source": [
    "import lime\n",
    "import lime.lime_tabular\n",
    "\n",
    "# 使用 LIME 进行局部解释\n",
    "lime_explainer = lime.lime_tabular.LimeTabularExplainer(X_scaled, feature_names=data.feature_names, class_names=['malignant', 'benign'], verbose=True, mode='classification')\n",
    "lime_exp = lime_explainer.explain_instance(X_scaled[0], best_model.predict_proba)\n",
    "lime_exp.show_in_notebook(show_table=True)"
   ],
   "outputs": [],
   "execution_count": null
  },
  {
   "cell_type": "markdown",
   "metadata": {},
   "source": [
    "# 7. 可视化分析\n",
    "准备各种高级可视化图表。"
   ]
  },
  {
   "cell_type": "code",
   "metadata": {
    "jupyter": {
     "is_executing": true
    }
   },
   "source": [
    "import seaborn as sns\n",
    "\n",
    "# 混淆矩阵热力图\n",
    "plt.figure(figsize=(8, 6))\n",
    "sns.heatmap(conf_matrix, annot=True, fmt=\"d\", cmap=\"Blues\", xticklabels=['Malignant', 'Benign'], yticklabels=['Malignant', 'Benign'])\n",
    "plt.xlabel('Predicted')\n",
    "plt.ylabel('Actual')\n",
    "plt.title('Confusion Matrix')\n",
    "plt.show()\n",
    "\n",
    "# ROC 曲线已在模型评估部分绘制\n",
    "\n",
    "# 特征重要性条形图\n",
    "shap.summary_plot(shap_values, X_scaled, feature_names=data.feature_names, plot_type=\"bar\")"
   ],
   "outputs": [],
   "execution_count": null
  },
  {
   "cell_type": "markdown",
   "metadata": {},
   "source": [
    "# 8. 模型保存和部署\n",
    "保存训练好的模型，并编写示例代码展示如何使用保存的模型进行预测。"
   ]
  },
  {
   "cell_type": "code",
   "metadata": {
    "jupyter": {
     "is_executing": true
    }
   },
   "source": [
    "import joblib\n",
    "\n",
    "# 保存模型\n",
    "joblib.dump(best_model, 'best_svm_model.pkl')\n",
    "\n",
    "# 加载模型并进行预测\n",
    "loaded_model = joblib.load('best_svm_model.pkl')\n",
    "sample_data = X_scaled[0].reshape(1, -1)\n",
    "prediction = loaded_model.predict(sample_data)\n",
    "print(f\"Prediction for sample data: {prediction}\")"
   ],
   "outputs": [],
   "execution_count": null
  }
 ],
 "metadata": {
  "language_info": {
   "name": "python"
  },
  "kernelspec": {
   "name": "python3",
   "language": "python",
   "display_name": "Python 3 (ipykernel)"
  }
 },
 "nbformat": 4,
 "nbformat_minor": 2
}
